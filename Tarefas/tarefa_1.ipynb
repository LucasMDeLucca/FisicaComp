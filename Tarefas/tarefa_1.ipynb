{
 "cells": [
  {
   "cell_type": "code",
   "execution_count": 9,
   "id": "9fa1a1ce",
   "metadata": {},
   "outputs": [],
   "source": [
    "def calculoAlturaMaxima(RA: str) -> float:\n",
    "    sum = 0.0\n",
    "    for i in RA:\n",
    "        sum += float(i)\n",
    "    print(f\"Soma dos dígitos do RA: {sum}\")\n",
    "    # Cálculo da altura máxima usando a soma dos dígitos\n",
    "    print(f\"V0: {2*sum}\")\n",
    "    hmax = (2*sum)**2 / (2*9.81)  # Exemplo de cálculo simplificado\n",
    "    return hmax # Exemplo de cálculo simplificado"
   ]
  },
  {
   "cell_type": "code",
   "execution_count": 10,
   "id": "05d12539",
   "metadata": {},
   "outputs": [
    {
     "name": "stdout",
     "output_type": "stream",
     "text": [
      "Soma dos dígitos do RA: 44.0\n",
      "V0: 88.0\n"
     ]
    },
    {
     "data": {
      "text/plain": [
       "394.6992864424057"
      ]
     },
     "execution_count": 10,
     "metadata": {},
     "output_type": "execute_result"
    }
   ],
   "source": [
    "calculoAlturaMaxima(\"11844803627\")  # Exemplo de chamada da função"
   ]
  }
 ],
 "metadata": {
  "kernelspec": {
   "display_name": "base",
   "language": "python",
   "name": "python3"
  },
  "language_info": {
   "codemirror_mode": {
    "name": "ipython",
    "version": 3
   },
   "file_extension": ".py",
   "mimetype": "text/x-python",
   "name": "python",
   "nbconvert_exporter": "python",
   "pygments_lexer": "ipython3",
   "version": "3.12.7"
  }
 },
 "nbformat": 4,
 "nbformat_minor": 5
}
