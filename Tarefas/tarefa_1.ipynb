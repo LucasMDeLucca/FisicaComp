{
 "cells": [
  {
   "cell_type": "markdown",
   "id": "bce77172",
   "metadata": {},
   "source": [
    "# Avaliacao 1\n",
    "\n",
    "Um projétil é lançado verticalmente para cima, a partir do solo, com velocidade inicial  (v0\n",
    " em m/s). O projétil está sujeito apenas à gravidade (g= 9,8 m/s2). Para personalizar o exercício, cada aluno deve calcular a altura máxima atingida pelo projétil usando como valor de  v0\n",
    " a soma dos dígitos do seu RA multiplicada por 2.\n",
    "\n",
    "Tarefas:\n",
    " * Solicite ao usuário o número do RA.\n",
    " * Calcule a soma dos dígitos do RA.\n",
    " * Defina  (soma dos dígitos do RA).\n",
    " * Calcule e imprima a altura máxima atingida pelo projétil usando a expressão: hmax=v202g\n",
    "\n",
    " * Mostre o valor de  utilizado e a altura máxima calculada."
   ]
  },
  {
   "cell_type": "markdown",
   "id": "9677afdf",
   "metadata": {},
   "source": [
    "![alt text]({4FE5207D-2B8D-4A38-9720-6329E9916210}.png)"
   ]
  },
  {
   "cell_type": "code",
   "execution_count": 5,
   "id": "9fa1a1ce",
   "metadata": {},
   "outputs": [],
   "source": [
    "def calculoAlturaMaxima(RA: str) -> float:\n",
    "    sum = 0.0\n",
    "    for i in RA:\n",
    "        sum += float(i)\n",
    "    print(f\"Soma dos dígitos do RA: {sum}\")\n",
    "    # Cálculo da altura máxima usando a soma dos dígitos\n",
    "    print(f\"V0: {2*sum}\")\n",
    "    hmax = (2*sum)**2 / (2*9.8)\n",
    "    print(f\"Altura máxima: {hmax}\")\n",
    "    return hmax "
   ]
  },
  {
   "cell_type": "code",
   "execution_count": 6,
   "id": "05d12539",
   "metadata": {},
   "outputs": [
    {
     "name": "stdout",
     "output_type": "stream",
     "text": [
      "Soma dos dígitos do RA: 12.0\n",
      "V0: 24.0\n",
      "Altura máxima: 29.387755102040813\n"
     ]
    },
    {
     "data": {
      "text/plain": [
       "29.387755102040813"
      ]
     },
     "execution_count": 6,
     "metadata": {},
     "output_type": "execute_result"
    }
   ],
   "source": [
    "calculoAlturaMaxima(\"11021016\")  # Exemplo de chamada da função"
   ]
  }
 ],
 "metadata": {
  "kernelspec": {
   "display_name": "base",
   "language": "python",
   "name": "python3"
  },
  "language_info": {
   "codemirror_mode": {
    "name": "ipython",
    "version": 3
   },
   "file_extension": ".py",
   "mimetype": "text/x-python",
   "name": "python",
   "nbconvert_exporter": "python",
   "pygments_lexer": "ipython3",
   "version": "3.12.7"
  }
 },
 "nbformat": 4,
 "nbformat_minor": 5
}
